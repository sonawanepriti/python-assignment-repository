{
 "cells": [
  {
   "cell_type": "markdown",
   "id": "907b5aa9-4397-4e7e-8c8a-1116b70b09b9",
   "metadata": {},
   "source": [
    "# Tuple"
   ]
  },
  {
   "cell_type": "markdown",
   "id": "0bab2790-779d-4687-a901-afde52f7c474",
   "metadata": {},
   "source": [
    "# Q1 Join Tuples if similar initial element"
   ]
  },
  {
   "cell_type": "code",
   "execution_count": 12,
   "id": "a1753b96-ce93-40a5-96f4-837147552080",
   "metadata": {},
   "outputs": [
    {
     "name": "stdout",
     "output_type": "stream",
     "text": [
      "[(5, 6, 7, 8), (6, 10), (7, 13)]\n"
     ]
    }
   ],
   "source": [
    "def join_tuples(test_list):\n",
    "    from collections import defaultdict\n",
    "\n",
    "    # Initialize a defaultdict to group values by the first element of tuples\n",
    "    grouped_dict = defaultdict(list)\n",
    "    \n",
    "    # Iterate through the list and group the tuples by their first element\n",
    "    for a, b in test_list:\n",
    "        grouped_dict[a].append(b)\n",
    "    \n",
    "    # Create a list of tuples from the grouped dictionary\n",
    "    result = [(key, *value) for key, value in grouped_dict.items()]\n",
    "    \n",
    "    return result\n",
    "\n",
    "# Example usage\n",
    "test_list = [(5, 6), (5, 7), (5, 8), (6, 10), (7, 13)]\n",
    "print(join_tuples(test_list))"
   ]
  },
  {
   "cell_type": "markdown",
   "id": "6d80f990-cb48-4a17-9045-8a4e402eebf0",
   "metadata": {},
   "source": [
    "# Q2: Multiply Adjacent elements (both side) and take sum of right and lest side multiplication result."
   ]
  },
  {
   "cell_type": "code",
   "execution_count": null,
   "id": "3ac091f5-07d4-4293-91fd-8461c8b44c60",
   "metadata": {},
   "outputs": [],
   "source": [
    "The original tuple : (1, 5, 7, 8, 10)\n"
   ]
  },
  {
   "cell_type": "markdown",
   "id": "d76ef0a9-0b50-427d-a076-d7ea027cd38b",
   "metadata": {},
   "source": [
    "# Q3 Check is tuples are same or not?"
   ]
  },
  {
   "cell_type": "code",
   "execution_count": 8,
   "id": "ca5a54f4-b7f1-46cc-adf8-f0cfb05df2e5",
   "metadata": {},
   "outputs": [
    {
     "name": "stdout",
     "output_type": "stream",
     "text": [
      "False\n"
     ]
    }
   ],
   "source": [
    "t1 =(1,2,3,0)\n",
    "t2 =(0,1,2,3)\n",
    "if t1== t2:\n",
    "    print(True)\n",
    "else:\n",
    "        print(False)\n",
    "        "
   ]
  },
  {
   "cell_type": "markdown",
   "id": "9d1900cb-eafa-47f0-9423-fd729448af5f",
   "metadata": {},
   "source": [
    "# Q4 Count no of tuples, list and set from a list\n",
    "\n"
   ]
  },
  {
   "cell_type": "code",
   "execution_count": 9,
   "id": "7676ce45-e182-4881-806f-ba9ceec53d8a",
   "metadata": {},
   "outputs": [
    {
     "name": "stdout",
     "output_type": "stream",
     "text": [
      "Number of tuples: 2\n",
      "Number of lists: 2\n",
      "Number of sets: 2\n"
     ]
    }
   ],
   "source": [
    "mixed_list = [(1, 2), [3, 4], {5, 6}, (7, 8), [9, 10], \"string\", 11, {12, 13}, 14.5]\n",
    "\n",
    "# Initialize counters for tuples, lists, and sets\n",
    "tuple_count = 0\n",
    "list_count = 0\n",
    "set_count = 0\n",
    "\n",
    "# Iterate through the mixed_list and count the types\n",
    "for element in mixed_list:\n",
    "    if isinstance(element, tuple):\n",
    "        tuple_count += 1\n",
    "    elif isinstance(element, list):\n",
    "        list_count += 1\n",
    "    elif isinstance(element, set):\n",
    "        set_count += 1\n",
    "\n",
    "# Output the counts\n",
    "print(f\"Number of tuples: {tuple_count}\")\n",
    "print(f\"Number of lists: {list_count}\")\n",
    "print(f\"Number of sets: {set_count}\")"
   ]
  },
  {
   "cell_type": "code",
   "execution_count": null,
   "id": "c0813d27-60d5-4c24-9fa8-79cda22769cd",
   "metadata": {},
   "outputs": [],
   "source": []
  },
  {
   "cell_type": "code",
   "execution_count": 43,
   "id": "ad03cbf9-ba4c-467e-a013-cbed03cb605f",
   "metadata": {},
   "outputs": [
    {
     "name": "stdin",
     "output_type": "stream",
     "text": [
      "Enter No of records:  2\n"
     ]
    },
    {
     "name": "stdout",
     "output_type": "stream",
     "text": [
      "Enter Details of student-1\n"
     ]
    },
    {
     "name": "stdin",
     "output_type": "stream",
     "text": [
      "Enter Student name: Riya\n",
      "Enter Higher Education: B.C.S\n",
      "Enter Primary Skill: python\n",
      "Enter Year of Graduation: 2022\n"
     ]
    },
    {
     "name": "stdout",
     "output_type": "stream",
     "text": [
      "Enter Details of student-2\n"
     ]
    },
    {
     "name": "stdin",
     "output_type": "stream",
     "text": [
      "Enter Student name: sneha\n",
      "Enter Higher Education: B.Sc\n",
      "Enter Primary Skill: C++\n",
      "Enter Year of Graduation: 2020\n"
     ]
    },
    {
     "name": "stdout",
     "output_type": "stream",
     "text": [
      "\n",
      "Enter Job Role Requirement\n"
     ]
    },
    {
     "name": "stdin",
     "output_type": "stream",
     "text": [
      "Enter Skill:  python\n",
      "Enter Higher Education:  B.C.S\n",
      "Enter Year of Graduation:  2022\n"
     ]
    },
    {
     "name": "stdout",
     "output_type": "stream",
     "text": [
      "Student Name: Riya, Higher Education: B.C.S, Primary Skill: python, Year of Graduation: 2022\n"
     ]
    }
   ],
   "source": [
    "def main():\n",
    "    # Input number of records\n",
    "    num_records = int(input(\"Enter No of records: \"))\n",
    "    \n",
    "    # Initialize a list to store student records as tuples\n",
    "    student_records = []\n",
    "    \n",
    "    # Input student details\n",
    "    for i in range(1, num_records + 1):\n",
    "        print(f\"Enter Details of student-{i}\")\n",
    "        name = input(\"Enter Student name:\")\n",
    "        higher_education = input(\"Enter Higher Education:\")\n",
    "        primary_skill = input(\"Enter Primary Skill:\")\n",
    "        year_of_graduation = input(\"Enter Year of Graduation:\")\n",
    "        \n",
    "        # Store student record as a tuple\n",
    "        student_records.append((name, higher_education, primary_skill, year_of_graduation))\n",
    "    \n",
    "    # Input job role requirements\n",
    "    print(\"\\nEnter Job Role Requirement\")\n",
    "    req_skill = input(\"Enter Skill: \")\n",
    "    req_higher_education = input(\"Enter Higher Education: \")\n",
    "    req_year_of_graduation = input(\"Enter Year of Graduation: \")\n",
    "    \n",
    "    # Filter and display matching candidates\n",
    "    found_candidate = False\n",
    "    for record in student_records:\n",
    "        name, edu, skill, year = record\n",
    "        if skill == req_skill and edu == req_higher_education and year == req_year_of_graduation:\n",
    "            print(f\"Student Name: {name}, Higher Education: {edu}, Primary Skill: {skill}, Year of Graduation: {year}\")\n",
    "            found_candidate = True\n",
    "             # If no candidate found\n",
    "    if not found_candidate:\n",
    "        print(\"No such candidate\")\n",
    "\n",
    "if __name__== \"__main__\":\n",
    "    main()"
   ]
  },
  {
   "cell_type": "markdown",
   "id": "c76848ea-f906-40f8-b5e9-51f1ae3b3a61",
   "metadata": {},
   "source": [
    "# Set"
   ]
  },
  {
   "cell_type": "markdown",
   "id": "587995ca-c792-40a6-a8ee-2f15dba1b729",
   "metadata": {},
   "source": [
    "# Q1 Write a program to find set of common elements in three lists using sets."
   ]
  },
  {
   "cell_type": "code",
   "execution_count": 16,
   "id": "41b8ddd5-5dce-4c56-8608-c56ce3c7e225",
   "metadata": {},
   "outputs": [
    {
     "name": "stdout",
     "output_type": "stream",
     "text": [
      "{80, 20}\n"
     ]
    }
   ],
   "source": [
    "ar1 = [1, 5, 10, 20, 40, 80]\n",
    "ar2 = [6, 7, 20, 80, 100]\n",
    "ar3 = [3, 4, 15, 20, 30, 70, 80, 120]\n",
    "set1 = set(ar1)\n",
    "set2 = set(ar2)\n",
    "set3 = set(ar3)\n",
    "\n",
    "# Find the intersection of the three sets\n",
    "common_elements = set1 & set2 & set3\n",
    "\n",
    "# Print the result\n",
    "print(common_elements)"
   ]
  },
  {
   "cell_type": "markdown",
   "id": "9e4db0c6-c5d1-4ed7-baf5-451fef5a1424",
   "metadata": {},
   "source": [
    "# Q2 Write a program to count unique number of vowels using sets in a given string. Lowercase and upercase vowels will be taken as different."
   ]
  },
  {
   "cell_type": "code",
   "execution_count": 24,
   "id": "8c4d59ea-4ba2-4111-8643-c50390621050",
   "metadata": {},
   "outputs": [
    {
     "name": "stdout",
     "output_type": "stream",
     "text": [
      "Unique number of vowels: 6\n"
     ]
    }
   ],
   "source": [
    "str1 = \"hands-on data science mentorship progrAm with live classes at affordable fee only on CampusX\"\n",
    "# Define vowels sets for lowercase and uppercase vowels\n",
    "\n",
    "# Create a set to store unique vowels\n",
    "unique_vowels = set()\n",
    "\n",
    "# Iterate through each character in the string\n",
    "for char in str1:\n",
    "    if char in lowercase_vowels or char in uppercase_vowels:\n",
    "        unique_vowels.add(char)\n",
    "\n",
    "# Count the number of unique vowels\n",
    "unique_vowel_count = len(unique_vowels)\n",
    "\n",
    "# Print the result\n",
    "print(\"Unique number of vowels:\", unique_vowel_count)\n"
   ]
  },
  {
   "cell_type": "markdown",
   "id": "99ab226c-11b9-42b2-96bb-26f3efa19603",
   "metadata": {},
   "source": [
    "# Q3: Write a program to Check if a given string is binary string of or not."
   ]
  },
  {
   "cell_type": "code",
   "execution_count": 25,
   "id": "d339244d-eb78-47c4-ad75-7ba5d57139e2",
   "metadata": {},
   "outputs": [
    {
     "name": "stdout",
     "output_type": "stream",
     "text": [
      "Input: 01010101010\n",
      "Output: Yes\n",
      "Input: 1222211\n",
      "Output: No\n",
      "Input: Campusx\n",
      "Output: No\n"
     ]
    }
   ],
   "source": [
    "def is_binary_string(s):\n",
    "    # Iterate through each character in the string\n",
    "    for char in s:\n",
    "        # Check if the character is not '0' and not '1'\n",
    "        if char != '0' and char != '1':\n",
    "            return False\n",
    "    return True\n",
    "\n",
    "# Test cases\n",
    "input_str1 = \"01010101010\"\n",
    "input_str2 = \"1222211\"\n",
    "input_str3 = \"Campusx\"\n",
    "\n",
    "if is_binary_string(input_str1):\n",
    "    print(f\"Input: {input_str1}\\nOutput: Yes\")\n",
    "else:\n",
    "    print(f\"Input: {input_str1}\\nOutput: No\")\n",
    "\n",
    "if is_binary_string(input_str2):\n",
    "    print(f\"Input: {input_str2}\\nOutput: Yes\")\n",
    "else:\n",
    "    print(f\"Input: {input_str2}\\nOutput: No\")\n",
    "\n",
    "if is_binary_string(input_str3):\n",
    "    print(f\"Input: {input_str3}\\nOutput: Yes\")\n",
    "else:\n",
    "    print(f\"Input: {input_str3}\\nOutput: No\")"
   ]
  },
  {
   "cell_type": "markdown",
   "id": "fda63b56-4462-46e3-8e08-e90a32b920c0",
   "metadata": {},
   "source": [
    "# Q4: find union of n arrays."
   ]
  },
  {
   "cell_type": "code",
   "execution_count": 27,
   "id": "2a5960a7-66d8-4180-9e51-e46695e19f8d",
   "metadata": {},
   "outputs": [
    {
     "name": "stdout",
     "output_type": "stream",
     "text": [
      "Union of arrays: [1, 2, 3, 4, 5, 6, 7, 9]\n"
     ]
    }
   ],
   "source": [
    "def find_union(arrays):\n",
    "    # Initialize an empty set to store unique elements\n",
    "    union_set = set()\n",
    "\n",
    "    # Iterate through each array in the list of arrays\n",
    "    for array in arrays:\n",
    "        # Add all elements of the current array to the set\n",
    "        union_set.update(array)\n",
    "\n",
    "    # Convert the set back to a sorted list (if needed)\n",
    "    union_list = sorted(union_set)\n",
    "\n",
    "    return union_list\n",
    "\n",
    "# Example usage:\n",
    "arrays = [\n",
    "    [1, 2, 2, 4, 3, 6],\n",
    "    [5, 1, 3, 4],\n",
    "    [9, 5, 7, 1],\n",
    "    [2, 4, 1, 3]\n",
    "]\n",
    "\n",
    "union = find_union(arrays)\n",
    "print(\"Union of arrays:\",union)"
   ]
  },
  {
   "cell_type": "markdown",
   "id": "6848e5bd-3fd7-48e2-8e1e-b9191629b2aa",
   "metadata": {},
   "source": [
    "# Q5: Intersection of two lists."
   ]
  },
  {
   "cell_type": "code",
   "execution_count": 28,
   "id": "f0213852-f03a-4895-bb47-a17b01564ae2",
   "metadata": {},
   "outputs": [
    {
     "name": "stdout",
     "output_type": "stream",
     "text": [
      "Intersection of lst1 and lst2: [4, 5, 9, 10]\n"
     ]
    }
   ],
   "source": [
    "lst1 = {15, 9, 10, 56, 23, 78, 5, 4, 9}\n",
    "lst2 = {9, 4, 5, 36, 47, 26, 10, 45, 87}\n",
    "# Using set intersection via list comprehension\n",
    "intersection_list = [x for x in lst1 if x in lst2]\n",
    "\n",
    "# Print the result\n",
    "print(\"Intersection of lst1 and lst2:\", intersection_list)"
   ]
  },
  {
   "cell_type": "code",
   "execution_count": 29,
   "id": "e2b20e65-9209-45e8-a151-593f8ef50f8c",
   "metadata": {},
   "outputs": [
    {
     "name": "stdout",
     "output_type": "stream",
     "text": [
      "Intersection of lst1 and lst2: [9, 11, 26, 28]\n"
     ]
    }
   ],
   "source": [
    "lst1 = {4, 9, 1, 17, 11, 26, 28, 54, 69}\n",
    "lst2 = {9, 9, 74, 21, 45, 11, 63, 28, 26}\n",
    "intersection_list = [x for x in lst1 if x in lst2]\n",
    "\n",
    "# Print the result\n",
    "print(\"Intersection of lst1 and lst2:\", intersection_list)"
   ]
  },
  {
   "cell_type": "markdown",
   "id": "5574f6d4-b8ff-4335-a6be-3714cb426fb3",
   "metadata": {},
   "source": [
    "# Dictionary"
   ]
  },
  {
   "cell_type": "markdown",
   "id": "5dc76acc-5917-403b-80d4-f2269e676fe1",
   "metadata": {},
   "source": [
    "# Q1 Key with maximum unique values\n",
    "# Given a dictionary with values list, extract key whose value has most unique values."
   ]
  },
  {
   "cell_type": "code",
   "execution_count": 10,
   "id": "daae2cdb-9696-4602-9c6e-a07f1c467d77",
   "metadata": {},
   "outputs": [
    {
     "name": "stdout",
     "output_type": "stream",
     "text": [
      "CampusX\n"
     ]
    }
   ],
   "source": [
    "test_dict = {\"CampusX\" : [5, 7, 9, 4, 0], \"is\" : [6, 7, 4, 3, 3], \"Best\" : [9, 9, 6, 5, 5]}\n",
    "\n",
    "# Calculate the number of unique values for each key\n",
    "unique_counts = {k: len(set(v)) for k, v in test_dict.items()}\n",
    "\n",
    "# Find the key with the maximum number of unique values\n",
    "max_unique_key = max(unique_counts, key=unique_counts.get)\n",
    "\n",
    "print(max_unique_key)"
   ]
  },
  {
   "cell_type": "code",
   "execution_count": 11,
   "id": "0e340a5c-5fb5-4a3b-842f-086486ffa079",
   "metadata": {},
   "outputs": [
    {
     "name": "stdout",
     "output_type": "stream",
     "text": [
      "Best\n"
     ]
    }
   ],
   "source": [
    "test_dict = {\"CampusX\" : [5, 7, 7, 7, 7], \"is\" : [6, 7, 7, 7], \"Best\" : [9, 9, 6, 5, 5]}\n",
    "unique_counts = {k: len(set(v)) for k, v in test_dict.items()}\n",
    "\n",
    "# Find the key with the maximum number of unique values\n",
    "max_unique_key = max(unique_counts, key=unique_counts.get)\n",
    "\n",
    "print(max_unique_key)"
   ]
  },
  {
   "cell_type": "markdown",
   "id": "6b3a1adf-db01-4c79-a20d-f368599e3775",
   "metadata": {},
   "source": [
    "# Q2 Replace words from Dictionary. Given String, replace it’s words from lookup dictionary."
   ]
  },
  {
   "cell_type": "code",
   "execution_count": 8,
   "id": "ee41c1be-0d3c-42e7-bc26-006b58c2fcaf",
   "metadata": {},
   "outputs": [
    {
     "name": "stdout",
     "output_type": "stream",
     "text": [
      "CampusX is the best channel for Data-Science students.\n"
     ]
    }
   ],
   "source": [
    "\n",
    "words = test_str.split()\n",
    "\n",
    "# Replace words using the replacement dictionary\n",
    "replaced_words = [repl_dict.get(word, word) for word in words]\n",
    "\n",
    "# Join the replaced words back into a string\n",
    "result_str = ' '.join(replaced_words)\n",
    "\n",
    "# Print the result\n",
    "print(result_str)"
   ]
  },
  {
   "cell_type": "code",
   "execution_count": 9,
   "id": "408d02e7-7ba8-4e2e-bc0f-d1367d6c525e",
   "metadata": {},
   "outputs": [
    {
     "name": "stdout",
     "output_type": "stream",
     "text": [
      "CampusX best for DS students.\n"
     ]
    }
   ],
   "source": [
    "# Example 2\n",
    "test_str = 'CampusX best for DS students.'\n",
    "repl_dict = {\"good\" : \"is the best channel\", \"ds\" : \"Data-Science\"}\n",
    "replaced_words = [repl_dict.get(word, word) for word in words]\n",
    "\n",
    "# Join the replaced words back into a string\n",
    "result_str = ' '.join(replaced_words)\n",
    "\n",
    "# Print the result\n",
    "print(result_str)"
   ]
  },
  {
   "cell_type": "markdown",
   "id": "dd13aff7-863c-46eb-939f-f66f89cc5c83",
   "metadata": {},
   "source": [
    "# Q3 Convert List to List of dictionaries. Given list values and keys list, convert these values to key value pairs in form of list of dictionaries."
   ]
  },
  {
   "cell_type": "code",
   "execution_count": null,
   "id": "bd539758-05a9-4380-9d92-b8141343f743",
   "metadata": {},
   "outputs": [],
   "source": [
    "test_list = [\"DataScience\", 3, \"is\", 8]\n",
    "key_list = [\"name\", \"id\"]\n",
    "\n",
    "{'name': 'DataScience', 'id': 3}, {'name': 'is', 'id': 8}]"
   ]
  },
  {
   "cell_type": "code",
   "execution_count": 11,
   "id": "3de74eb4-7194-4700-a45b-610b2c853e7e",
   "metadata": {},
   "outputs": [
    {
     "name": "stdout",
     "output_type": "stream",
     "text": [
      "({'name': 'DataScience', 'id': 3}, {'name': 'is', 'id': 8})\n"
     ]
    }
   ],
   "source": [
    "test_list = [\"DataScience\", 3, \"is\", 8]\n",
    "key_list = [\"name\", \"id\"]\n",
    "convert_dict={'name':'DataScience','id':3},{'name':'is','id':8}\n",
    "print(convert_dict)"
   ]
  },
  {
   "cell_type": "code",
   "execution_count": 12,
   "id": "0b3ee83f-0087-4261-a4d9-e63ae2180d89",
   "metadata": {},
   "outputs": [
    {
     "name": "stdout",
     "output_type": "stream",
     "text": [
      "{'name': 'CampusX', 'id': 10}\n"
     ]
    }
   ],
   "source": [
    "#Example 2\n",
    "test_list = [\"CampusX\", 10]\n",
    "key_list = [\"name\", \"id\"]\n",
    "convert_list={'name':'CampusX','id':10}\n",
    "print(convert_list)"
   ]
  },
  {
   "cell_type": "markdown",
   "id": "4237c24c-a0b6-4031-bffa-d91acc6017e3",
   "metadata": {},
   "source": [
    "# Q4: Convert a list of Tuples into Dictionary."
   ]
  },
  {
   "cell_type": "code",
   "execution_count": 20,
   "id": "26d8920a-5ed5-48fe-8604-ad28c2cbe0bb",
   "metadata": {},
   "outputs": [
    {
     "name": "stdout",
     "output_type": "stream",
     "text": [
      "{'akash': 10, 'gaurav': 12, 'anand': 14, 'suraj': 20, 'akhil': 25, 'ashish': 30}\n",
      "{'akash': 10, 'gaurav': 12, 'anand': 14, 'suraj': 20, 'akhil': 25, 'ashish': 30}\n"
     ]
    }
   ],
   "source": [
    "listOf_tuple=[(\"akash\", 10), (\"gaurav\", 12), (\"anand\", 14), (\"suraj\", 20), (\"akhil\", 25), (\"ashish\", 30)]\n",
    "dict_from_tuple1={key:value for key,value in listOf_tuple}\n",
    "dict_from_tuple2=dict(listOf_tuple)\n",
    "print(dict_from_tuple1)\n",
    "print(dict_from_tuple2)"
   ]
  },
  {
   "cell_type": "code",
   "execution_count": 23,
   "id": "cb471796-03d6-4d54-a6e0-35810d902732",
   "metadata": {},
   "outputs": [
    {
     "name": "stdout",
     "output_type": "stream",
     "text": [
      "{'A': 1, 'B': 2, 'C': 3}\n"
     ]
    }
   ],
   "source": [
    "# Example 2:\n",
    "list=[('A', 1), ('B', 2), ('C', 3)]\n",
    "dict_from_tuple1={key:value for key,value in list}\n",
    "dict_from_tuple2=dict(list)\n",
    "print(dict_from_tuple1)\n"
   ]
  },
  {
   "cell_type": "markdown",
   "id": "56a51ffa-1d4d-4dab-a577-b5626f3ea1f6",
   "metadata": {},
   "source": [
    "# Q5: Sort Dictionary key and values List."
   ]
  },
  {
   "cell_type": "code",
   "execution_count": 29,
   "id": "6aa10bfd-48e0-4039-bc86-9ff9a8ddb0fe",
   "metadata": {},
   "outputs": [
    {
     "name": "stdout",
     "output_type": "stream",
     "text": [
      "{'a': [19, 4], 'b': [12, 10], 'c': [3]}\n"
     ]
    }
   ],
   "source": [
    "l1={'c': [3], 'b': [12, 10], 'a': [19, 4]}\n",
    "sorted_dict={key: l1[key] for key in sorted(l1)}\n",
    "print(sorted_dict)"
   ]
  },
  {
   "cell_type": "code",
   "execution_count": 9,
   "id": "f9515c51-088f-4abe-82d4-f3ea459e9f6d",
   "metadata": {},
   "outputs": [
    {
     "name": "stdout",
     "output_type": "stream",
     "text": [
      "{'c': [10, 34, 3]}\n"
     ]
    }
   ],
   "source": [
    "# Example 2\n",
    "l2={'c': [10, 34, 3]}\n",
    "sorted_dict={key: l2[key] for key in sorted(l2)}\n",
    "print(sorted_dict)"
   ]
  },
  {
   "cell_type": "code",
   "execution_count": null,
   "id": "401156b0-adcb-4a93-a743-7fce62b75ecf",
   "metadata": {},
   "outputs": [],
   "source": []
  }
 ],
 "metadata": {
  "kernelspec": {
   "display_name": "Python 3 (ipykernel)",
   "language": "python",
   "name": "python3"
  },
  "language_info": {
   "codemirror_mode": {
    "name": "ipython",
    "version": 3
   },
   "file_extension": ".py",
   "mimetype": "text/x-python",
   "name": "python",
   "nbconvert_exporter": "python",
   "pygments_lexer": "ipython3",
   "version": "3.11.7"
  }
 },
 "nbformat": 4,
 "nbformat_minor": 5
}
