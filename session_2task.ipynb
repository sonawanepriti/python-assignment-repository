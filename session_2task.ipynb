{
 "cells": [
  {
   "cell_type": "code",
   "execution_count": 1,
   "id": "05e67161-be4e-48af-8689-610c00c53c0f",
   "metadata": {},
   "outputs": [
    {
     "name": "stdin",
     "output_type": "stream",
     "text": [
      "Enter your CTC (in Lakhs):  12\n"
     ]
    },
    {
     "name": "stdout",
     "output_type": "stream",
     "text": [
      "Your monthly salary after deductions is: 0.66 Lakhs\n"
     ]
    }
   ],
   "source": [
    "# Problem 1: Write a program that will give you in hand monthly salary after deduction on CTC - HRA(10%), DA(5%), PF(3%) and taxes deduction as below:\n",
    "# Salary(Lakhs) : Tax(%)\n",
    "\n",
    "# Below 5 : 0%\n",
    "# 5-10 : 10%\n",
    "# 10-20 : 20%\n",
    "# aboove 20 : 30%\n",
    "\n",
    "def calculate_monthly_salary(ctc):\n",
    "    # Constants for deduction percentages\n",
    "    hra_percent = 10\n",
    "    da_percent = 5\n",
    "    pf_percent = 3\n",
    "    \n",
    "    # Calculate total deduction percentage\n",
    "    total_deduction_percent = hra_percent + da_percent + pf_percent\n",
    "    \n",
    "    # Calculate taxable income after deductions\n",
    "    taxable_income = ctc * (1 - total_deduction_percent / 100)\n",
    "    \n",
    "    # Determine tax percentage based on salary slab\n",
    "    if ctc < 5:\n",
    "        tax_percent = 0\n",
    "    elif 5 <= ctc < 10:\n",
    "        tax_percent = 10\n",
    "    elif 10 <= ctc < 20:\n",
    "        tax_percent = 20\n",
    "    else:\n",
    "        tax_percent = 30\n",
    "    \n",
    "    # Calculate tax amount\n",
    "    tax_amount = taxable_income * (tax_percent / 100)\n",
    "    \n",
    "    # Calculate monthly salary after tax deduction\n",
    "    monthly_salary = (taxable_income - tax_amount) / 12\n",
    "    \n",
    "    return monthly_salary\n",
    "\n",
    "# Example usage:\n",
    "ctc = float(input(\"Enter your CTC (in Lakhs): \"))\n",
    "monthly_salary = calculate_monthly_salary(ctc)\n",
    "\n",
    "print(f\"Your monthly salary after deductions is: {monthly_salary:.2f} Lakhs\")"
   ]
  },
  {
   "cell_type": "markdown",
   "id": "88bfed00-3dc1-4350-a030-bd92591e362d",
   "metadata": {},
   "source": [
    "# Problem 2: Write a program that take a user input of three angles and will find out whether it can form a triangle or not."
   ]
  },
  {
   "cell_type": "code",
   "execution_count": 2,
   "id": "5447fe2d-25b4-4e48-bcb3-7ab143e8a52f",
   "metadata": {},
   "outputs": [
    {
     "name": "stdin",
     "output_type": "stream",
     "text": [
      "Enter first angle:  45\n",
      "Enter second angle:  67\n",
      "Enter third angle:  12\n"
     ]
    },
    {
     "name": "stdout",
     "output_type": "stream",
     "text": [
      "No, these angles cannot form a triangle.\n"
     ]
    }
   ],
   "source": [
    "def check_triangle(angle1, angle2, angle3):\n",
    "    # Check if all angles are positive and their sum is 180\n",
    "    if angle1 > 0 and angle2 > 0 and angle3 > 0:\n",
    "        if angle1 + angle2 + angle3 == 180:\n",
    "            return True\n",
    "    return False\n",
    "\n",
    "# Input angles from the user\n",
    "angle1 = int(input(\"Enter first angle: \"))\n",
    "angle2 = int(input(\"Enter second angle: \"))\n",
    "angle3 = int(input(\"Enter third angle: \"))\n",
    "\n",
    "# Check if they can form a triangle\n",
    "if check_triangle(angle1, angle2, angle3):\n",
    "    print(\"Yes, these angles can form a triangle.\")\n",
    "else:\n",
    "    print(\"No, these angles cannot form a triangle.\")"
   ]
  },
  {
   "cell_type": "code",
   "execution_count": 10,
   "id": "3c2c0762-9717-46ab-8737-3e7e82506124",
   "metadata": {},
   "outputs": [
    {
     "name": "stdin",
     "output_type": "stream",
     "text": [
      "Enter First angle: 180180\n",
      "Enter Second angle: 180\n",
      "Enter third angle: 180\n"
     ]
    },
    {
     "name": "stdout",
     "output_type": "stream",
     "text": [
      "NO, this is not a triangle\n"
     ]
    }
   ],
   "source": [
    "def triangle(angle1, angle2, angle3):\n",
    "    if angle1 > 0 and angle2 > 0 and angle3 >0:\n",
    "        if angle1 + angle2 + angle3 ==180:\n",
    "         return True\n",
    "    return False\n",
    "angle1=int(input(\"Enter First angle:\"))\n",
    "angle2=int(input(\"Enter Second angle:\"))\n",
    "angle3=int(input(\"Enter third angle:\"))\n",
    "\n",
    "if  triangle(angle1, angle2, angle3):\n",
    "    print(\"Yes, this is a triangle\")\n",
    "else:\n",
    "    print(\"NO, this is not a triangle\")\n",
    "    "
   ]
  },
  {
   "cell_type": "markdown",
   "id": "f601ab4e-c777-485b-a151-6f2741b7726b",
   "metadata": {},
   "source": [
    "# Problem 3: Write a program that will take user input of cost price and selling price and determines whether its a loss or a profit.\n"
   ]
  },
  {
   "cell_type": "code",
   "execution_count": 1,
   "id": "ef4c9fd7-673c-47c0-9591-e9ecb44215f1",
   "metadata": {},
   "outputs": [
    {
     "name": "stdin",
     "output_type": "stream",
     "text": [
      "Enter the cost price:  3000\n",
      "Enter the selling price:  40000\n"
     ]
    },
    {
     "name": "stdout",
     "output_type": "stream",
     "text": [
      "There is a profit of $37000.00\n"
     ]
    }
   ],
   "source": [
    "cost_price = float(input(\"Enter the cost price: \"))\n",
    "selling_price = float(input(\"Enter the selling price: \"))\n",
    "\n",
    "# Calculating profit or loss\n",
    "profit = selling_price - cost_price\n",
    "loss = cost_price - selling_price\n",
    "\n",
    "# Determining if there is profit or loss\n",
    "if profit > 0:\n",
    "    print(f\"There is a profit of ${profit:.2f}\")\n",
    "elif loss > 0:\n",
    "    print(f\"There is a loss of ${loss:.2f}\")\n",
    "else:\n",
    "    print(\"There is neither profit nor loss.\")"
   ]
  },
  {
   "cell_type": "markdown",
   "id": "c5ab1b49-c553-487f-85b9-2331c6719c46",
   "metadata": {},
   "source": [
    "# #Problem 4: Write a menu-driven program -\n",
    "# cm to ft\n",
    "# km to miles\n",
    "# USD to INR\n",
    "# exit"
   ]
  },
  {
   "cell_type": "code",
   "execution_count": 2,
   "id": "585c06e9-7fcc-496b-985d-9ac57451d88e",
   "metadata": {},
   "outputs": [
    {
     "name": "stdout",
     "output_type": "stream",
     "text": [
      "\n",
      "Menu:\n",
      "1. Convert cm to ft\n",
      "2. Convert km to miles\n",
      "3. Convert USD to INR\n",
      "4. Exit\n"
     ]
    },
    {
     "name": "stdin",
     "output_type": "stream",
     "text": [
      "Enter your choice (1/2/3/4):  1\n",
      "Enter length in cm:  45\n"
     ]
    },
    {
     "name": "stdout",
     "output_type": "stream",
     "text": [
      "45.0 cm is equal to 1.48 ft\n",
      "\n",
      "Menu:\n",
      "1. Convert cm to ft\n",
      "2. Convert km to miles\n",
      "3. Convert USD to INR\n",
      "4. Exit\n"
     ]
    },
    {
     "name": "stdin",
     "output_type": "stream",
     "text": [
      "Enter your choice (1/2/3/4):  3\n",
      "Enter amount in USD:  23\n"
     ]
    },
    {
     "name": "stdout",
     "output_type": "stream",
     "text": [
      "23.0 USD is equal to 1713.50 INR\n",
      "\n",
      "Menu:\n",
      "1. Convert cm to ft\n",
      "2. Convert km to miles\n",
      "3. Convert USD to INR\n",
      "4. Exit\n"
     ]
    },
    {
     "name": "stdin",
     "output_type": "stream",
     "text": [
      "Enter your choice (1/2/3/4):  4\n"
     ]
    },
    {
     "name": "stdout",
     "output_type": "stream",
     "text": [
      "Exiting the program. Goodbye!\n"
     ]
    }
   ],
   "source": [
    "def cm_to_ft(cm):\n",
    "    return cm / 30.48\n",
    "\n",
    "def km_to_miles(km):\n",
    "    return km / 1.60934\n",
    "\n",
    "def usd_to_inr(usd):\n",
    "    return usd * 74.5  # Assuming conversion rate of 1 USD = 74.5 INR\n",
    "\n",
    "# Function to display menu\n",
    "def display_menu():\n",
    "    print(\"\\nMenu:\")\n",
    "    print(\"1. Convert cm to ft\")\n",
    "    print(\"2. Convert km to miles\")\n",
    "    print(\"3. Convert USD to INR\")\n",
    "    print(\"4. Exit\")\n",
    "\n",
    "# Main program\n",
    "while True:\n",
    "    display_menu()\n",
    "    choice = input(\"Enter your choice (1/2/3/4): \")\n",
    "\n",
    "    if choice == '1':\n",
    "        cm = float(input(\"Enter length in cm: \"))\n",
    "        ft = cm_to_ft(cm)\n",
    "        print(f\"{cm} cm is equal to {ft:.2f} ft\")\n",
    "\n",
    "    elif choice == '2':\n",
    "        km = float(input(\"Enter distance in km: \"))\n",
    "        miles = km_to_miles(km)\n",
    "        print(f\"{km} km is equal to {miles:.2f} miles\")\n",
    "\n",
    "    elif choice == '3':\n",
    "        usd = float(input(\"Enter amount in USD: \"))\n",
    "        inr = usd_to_inr(usd)\n",
    "        print(f\"{usd} USD is equal to {inr:.2f} INR\")\n",
    "\n",
    "    elif choice == '4':\n",
    "        print(\"Exiting the program. Goodbye!\")\n",
    "        break\n",
    "\n",
    "    else:\n",
    "        print(\"Invalid choice! Please enter a valid option (1/2/3/4).\")\n"
   ]
  },
  {
   "cell_type": "markdown",
   "id": "4feb95c8-3c85-4891-b8df-13ec2ff8f6c2",
   "metadata": {},
   "source": [
    "# Problem 5 - Exercise 12: Display Fibonacci series up to 10 terms.\n",
    "# Note: The Fibonacci Sequence is a series of numbers. The next number is found by adding up the two numbers before it. The first two numbers are 0 and 1. For example, 0, 1, 1, 2, 3, 5, 8, 13, 21. The next number in this series above is 13+21 = 34"
   ]
  },
  {
   "cell_type": "code",
   "execution_count": 5,
   "id": "181c12d8-15fd-4147-ae5a-686ae360b42e",
   "metadata": {},
   "outputs": [
    {
     "name": "stdin",
     "output_type": "stream",
     "text": [
      "Enter the number of Fibonacci terms to generate:  20\n"
     ]
    },
    {
     "name": "stdout",
     "output_type": "stream",
     "text": [
      "Fibonacci sequence:\n",
      "[0, 1, 1, 2, 3, 5, 8, 13, 21, 34, 55, 89, 144, 233, 377, 610, 987, 1597, 2584, 4181]\n"
     ]
    }
   ],
   "source": [
    "def fibonacci_sequence(n):\n",
    "    # Initialize first two terms of the sequence\n",
    "    fib_sequence = [0, 1]\n",
    "\n",
    "    # Generate the Fibonacci sequence up to n terms\n",
    "    for i in range(2, n):\n",
    "        next_term = fib_sequence[-1] + fib_sequence[-2]\n",
    "        fib_sequence.append(next_term)\n",
    "\n",
    "    return fib_sequence\n",
    "\n",
    "# Taking user input for the number of terms in Fibonacci sequence\n",
    "n = int(input(\"Enter the number of Fibonacci terms to generate: \"))\n",
    "\n",
    "# Generate and print the Fibonacci sequence\n",
    "fib_seq = fibonacci_sequence(n)\n",
    "print(\"Fibonacci sequence:\")\n",
    "print(fib_seq)\n"
   ]
  },
  {
   "cell_type": "markdown",
   "id": "4c7c7961-dd63-41ec-abe4-6b926cffccfa",
   "metadata": {},
   "source": [
    "# Problem 6 - Find the factorial of a given number.\n",
    "# Write a program to use the loop to find the factorial of a given number.\n",
    "\n",
    "# The factorial (symbol: !) means to multiply all whole numbers from the chosen number down to 1.\n",
    "\n",
    "# For example: calculate the factorial of 5"
   ]
  },
  {
   "cell_type": "code",
   "execution_count": 6,
   "id": "a8ea6cdc-c83f-4e5f-8d10-350ab6a328f9",
   "metadata": {},
   "outputs": [
    {
     "name": "stdout",
     "output_type": "stream",
     "text": [
      "[120]\n"
     ]
    }
   ],
   "source": [
    "def fact(n):\n",
    "    \"\"\"this function will give factorial value\"\"\"\n",
    "    prod=1\n",
    "    while n>=1:\n",
    "        prod=prod*n\n",
    "        n=n-1\n",
    "    return prod\n",
    "l2=[5]\n",
    "print(list(map(fact,l2)))                "
   ]
  },
  {
   "cell_type": "markdown",
   "id": "28c1c723-034a-4b87-a6ba-e678e8ae75d6",
   "metadata": {},
   "source": [
    "# Reverse a given integer number."
   ]
  },
  {
   "cell_type": "code",
   "execution_count": 9,
   "id": "ebe7cf16-db43-43ba-bcd5-89ea0e3151c0",
   "metadata": {},
   "outputs": [
    {
     "name": "stdout",
     "output_type": "stream",
     "text": [
      "The reversed number of 76542 is: 24567\n"
     ]
    }
   ],
   "source": [
    "def reverse_integer(num):\n",
    "    # Convert the number to a string\n",
    "    num_str = str(num)\n",
    "    \n",
    "    # Reverse the string\n",
    "    reversed_str = num_str[::-1]\n",
    "    \n",
    "    # Convert the reversed string back to an integer\n",
    "    reversed_num = int(reversed_str)\n",
    "    \n",
    "    return reversed_num\n",
    "\n",
    "number = 76542\n",
    "reversed_number = reverse_integer(number)\n",
    "\n",
    "print(f\"The reversed number of {number} is: {reversed_number}\")\n"
   ]
  },
  {
   "cell_type": "markdown",
   "id": "d3ad96b6-27f2-4478-b600-c4c39807335a",
   "metadata": {},
   "source": [
    "# Problem 8: Take a user input as integer N. Find out the sum from 1 to N. If any number if divisible by 5, then skip that number. And if the sum is greater than 300, don't need to calculate the sum further more. Print the final result. And don't use for loop to solve this problem."
   ]
  },
  {
   "cell_type": "code",
   "execution_count": 10,
   "id": "357ce3e5-8902-4041-80cf-54d88a3f3ff8",
   "metadata": {},
   "outputs": [
    {
     "name": "stdin",
     "output_type": "stream",
     "text": [
      "Enter an integer N:  24\n"
     ]
    },
    {
     "name": "stdout",
     "output_type": "stream",
     "text": [
      "The sum from 1 to 24 (skipping numbers divisible by 5 and stopping if sum exceeds 300) is: 250\n"
     ]
    }
   ],
   "source": [
    "def sum_up_to_n(n, current_sum=0):\n",
    "    if n == 0:\n",
    "        return current_sum\n",
    "    else:\n",
    "        if n % 5 != 0:\n",
    "            new_sum = current_sum + n\n",
    "            if new_sum > 300:\n",
    "                return new_sum\n",
    "            else:\n",
    "                return sum_up_to_n(n - 1, new_sum)\n",
    "        else:\n",
    "            return sum_up_to_n(n - 1, current_sum)\n",
    "\n",
    "# Taking user input for integer N\n",
    "N = int(input(\"Enter an integer N: \"))\n",
    "\n",
    "# Calculate the sum from 1 to N with given conditions\n",
    "result = sum_up_to_n(N)\n",
    "\n",
    "# Print the final result\n",
    "print(f\"The sum from 1 to {N} (skipping numbers divisible by 5 and stopping if sum exceeds 300) is: {result}\")\n"
   ]
  },
  {
   "cell_type": "markdown",
   "id": "c326e7d9-0b2b-40d8-b305-b79cea882f74",
   "metadata": {},
   "source": [
    "# Problem 9: Write a program that keeps on accepting a number from the user until the user enters Zero. Display the sum and average of all the numbers."
   ]
  },
  {
   "cell_type": "code",
   "execution_count": 13,
   "id": "05d25f0e-d096-4f5a-ac14-dd7c0c94b932",
   "metadata": {},
   "outputs": [
    {
     "name": "stdin",
     "output_type": "stream",
     "text": [
      "Enter a number (enter 0 to stop):  4\n",
      "Enter a number (enter 0 to stop):  5\n",
      "Enter a number (enter 0 to stop):  6\n",
      "Enter a number (enter 0 to stop):  7\n",
      "Enter a number (enter 0 to stop):  8\n",
      "Enter a number (enter 0 to stop):  9\n",
      "Enter a number (enter 0 to stop):  0\n"
     ]
    },
    {
     "name": "stdout",
     "output_type": "stream",
     "text": [
      "Sum of numbers: 39.0\n",
      "Average of numbers: 6.5\n"
     ]
    }
   ],
   "source": [
    "def main():\n",
    "    numbers = []\n",
    "    \n",
    "    while True:\n",
    "        num = float(input(\"Enter a number (enter 0 to stop): \"))\n",
    "        \n",
    "        if num == 0:\n",
    "            break\n",
    "        \n",
    "        numbers.append(num)\n",
    "    \n",
    "    if numbers:\n",
    "        total_sum = sum(numbers)\n",
    "        average = total_sum / len(numbers)\n",
    "        \n",
    "        print(f\"Sum of numbers: {total_sum}\")\n",
    "        print(f\"Average of numbers: {average}\")\n",
    "    else:\n",
    "        print(\"No numbers were entered.\")\n",
    "\n",
    "if __name__ == \"__main__\":\n",
    "    main()\n"
   ]
  },
  {
   "cell_type": "markdown",
   "id": "d5e6e8c9-5eee-4e88-bf5d-6868baac9784",
   "metadata": {},
   "source": [
    "# Problem 10: Write a program which will find all such numbers which are divisible by 7 but are not a multiple of 5, between 2000 and 3200 (both included). The numbers obtained should be printed in a comma-separated sequence on a single line."
   ]
  },
  {
   "cell_type": "code",
   "execution_count": 14,
   "id": "cbd5de73-cafd-41c3-b460-62643ddbf19f",
   "metadata": {},
   "outputs": [
    {
     "name": "stdout",
     "output_type": "stream",
     "text": [
      "2002,2009,2016,2023,2037,2044,2051,2058,2072,2079,2086,2093,2107,2114,2121,2128,2142,2149,2156,2163,2177,2184,2191,2198,2212,2219,2226,2233,2247,2254,2261,2268,2282,2289,2296,2303,2317,2324,2331,2338,2352,2359,2366,2373,2387,2394,2401,2408,2422,2429,2436,2443,2457,2464,2471,2478,2492,2499,2506,2513,2527,2534,2541,2548,2562,2569,2576,2583,2597,2604,2611,2618,2632,2639,2646,2653,2667,2674,2681,2688,2702,2709,2716,2723,2737,2744,2751,2758,2772,2779,2786,2793,2807,2814,2821,2828,2842,2849,2856,2863,2877,2884,2891,2898,2912,2919,2926,2933,2947,2954,2961,2968,2982,2989,2996,3003,3017,3024,3031,3038,3052,3059,3066,3073,3087,3094,3101,3108,3122,3129,3136,3143,3157,3164,3171,3178,3192,3199\n"
     ]
    }
   ],
   "source": [
    "# Initialize an empty list to store the numbers\n",
    "result_numbers = []\n",
    "\n",
    "# Iterate through numbers from 2000 to 3200 (inclusive)\n",
    "for num in range(2000, 3201):\n",
    "    if num % 7 == 0 and num % 5 != 0:\n",
    "        result_numbers.append(num)\n",
    "\n",
    "# Print the result as a comma-separated sequence on a single line\n",
    "print(','.join(map(str, result_numbers)))\n"
   ]
  },
  {
   "cell_type": "markdown",
   "id": "f1168858-48c1-469a-abc1-6de372824510",
   "metadata": {},
   "source": [
    "# Problem 11#: Write a program, which will find all such numbers between 1000 and 3000 (both included) such that each digit of the number is an even number. The numbers obtained should be printed in a space-separated sequence on a single line."
   ]
  },
  {
   "cell_type": "code",
   "execution_count": 15,
   "id": "f5522059-3cbf-4fc3-90e6-ff0b2ee77c94",
   "metadata": {},
   "outputs": [
    {
     "name": "stdout",
     "output_type": "stream",
     "text": [
      "2000 2002 2004 2006 2008 2020 2022 2024 2026 2028 2040 2042 2044 2046 2048 2060 2062 2064 2066 2068 2080 2082 2084 2086 2088 2200 2202 2204 2206 2208 2220 2222 2224 2226 2228 2240 2242 2244 2246 2248 2260 2262 2264 2266 2268 2280 2282 2284 2286 2288 2400 2402 2404 2406 2408 2420 2422 2424 2426 2428 2440 2442 2444 2446 2448 2460 2462 2464 2466 2468 2480 2482 2484 2486 2488 2600 2602 2604 2606 2608 2620 2622 2624 2626 2628 2640 2642 2644 2646 2648 2660 2662 2664 2666 2668 2680 2682 2684 2686 2688 2800 2802 2804 2806 2808 2820 2822 2824 2826 2828 2840 2842 2844 2846 2848 2860 2862 2864 2866 2868 2880 2882 2884 2886 2888\n"
     ]
    }
   ],
   "source": [
    "# Initialize an empty list to store the numbers\n",
    "result_numbers = []\n",
    "\n",
    "# Iterate through numbers from 1000 to 3000 (inclusive)\n",
    "for num in range(1000, 3001):\n",
    "    # Check if all digits are even\n",
    "    if all(int(digit) % 2 == 0 for digit in str(num)):\n",
    "        result_numbers.append(num)\n",
    "\n",
    "# Print the result as a space-separated sequence on a single line\n",
    "print(' '.join(map(str, result_numbers)))\n"
   ]
  },
  {
   "cell_type": "markdown",
   "id": "d979ce09-b297-40b7-acbf-b58b9a47f014",
   "metadata": {},
   "source": [
    "# Problem 11: A robot moves in a plane starting from the original point (0,0). The robot can move toward UP, DOWN, LEFT and RIGHT with a given steps.\n",
    "# The trace of robot movement is shown as the following:\n",
    "\n",
    "# UP 5\n",
    "# DOWN 3\n",
    "# LEFT 3\n",
    "# RIGHT 2\n",
    "# !"
   ]
  },
  {
   "cell_type": "code",
   "execution_count": 17,
   "id": "ff3efaec-4962-48a0-95de-b964f970296f",
   "metadata": {},
   "outputs": [
    {
     "name": "stdout",
     "output_type": "stream",
     "text": [
      "Final position of the robot after all movements is: (-1, 2)\n"
     ]
    }
   ],
   "source": [
    "# Initialize starting position\n",
    "x, y = 0, 0\n",
    "\n",
    "# Define movements\n",
    "moves = [\n",
    "    ('UP', 5),\n",
    "    ('DOWN', 3),\n",
    "    ('LEFT', 3),\n",
    "    ('RIGHT', 2)\n",
    "]\n",
    "\n",
    "# Iterate through each movement and update position\n",
    "for move, steps in moves:\n",
    "    if move == 'UP':\n",
    "        y += steps\n",
    "    elif move == 'DOWN':\n",
    "        y -= steps\n",
    "    elif move == 'LEFT':\n",
    "        x -= steps\n",
    "    elif move == 'RIGHT':\n",
    "        x += steps\n",
    "\n",
    "# Print the final position\n",
    "print(f\"Final position of the robot after all movements is: ({x}, {y})\")\n"
   ]
  },
  {
   "cell_type": "markdown",
   "id": "926a2b71-c23e-40c8-ab5f-284186acef48",
   "metadata": {},
   "source": [
    "# Problem 12:Write a program to print whether a given number is a prime number or not"
   ]
  },
  {
   "cell_type": "code",
   "execution_count": 20,
   "id": "7d15933f-16c6-4f3a-a61e-30652e5efdac",
   "metadata": {},
   "outputs": [
    {
     "name": "stdin",
     "output_type": "stream",
     "text": [
      "Enter a number to check if it's prime:  3\n"
     ]
    },
    {
     "name": "stdout",
     "output_type": "stream",
     "text": [
      "3 is a prime number.\n"
     ]
    }
   ],
   "source": [
    "def is_prime(num):\n",
    "    # Check if number is less than or equal to 1\n",
    "    if num <= 1:\n",
    "        return False\n",
    "    \n",
    "    # Check for factors from 2 to sqrt(num)\n",
    "    for i in range(2, int(num**0.5) + 1):\n",
    "        if num % i == 0:\n",
    "            return False\n",
    "    \n",
    "    return True\n",
    "\n",
    "# Example usage:\n",
    "number = int(input(\"Enter a number to check if it's prime: \"))\n",
    "\n",
    "if is_prime(number):\n",
    "    print(f\"{number} is a prime number.\")\n",
    "else:\n",
    "    print(f\"{number} is not a prime number.\")\n"
   ]
  },
  {
   "cell_type": "markdown",
   "id": "357b90cd-e900-497d-a045-4bc14efa613e",
   "metadata": {},
   "source": [
    "# Problem 13:Print all the Armstrong numbers in a given range.\n",
    "# Range will be provided by the user\n",
    "# Armstrong number is a number that is equal to the sum of cubes of its digits. For example 0, 1, 153, 370, 371 and 407 are the Armstrong numbers."
   ]
  },
  {
   "cell_type": "code",
   "execution_count": null,
   "id": "cd3bcd7a-a418-44ac-8077-993dd28d148d",
   "metadata": {},
   "outputs": [],
   "source": [
    "def is_armstrong_number(num):\n",
    "    # Convert number to string to iterate over digits\n",
    "    num_str = str(num)\n",
    "    num_digits = len(num_str)\n",
    "    \n",
    "    # Calculate the sum of cubes of its digits\n",
    "    sum_of_cubes = sum(int(digit) ** num_digits for digit in num_str)\n",
    "    \n",
    "    # Check if the number is equal to the sum of cubes of its digits\n",
    "    return num == sum_of_cubes\n",
    "\n",
    "def find_armstrong_numbers(start, end):\n",
    "    armstrong_numbers = []\n",
    "    for num in range(start, end + 1):\n",
    "        if is_armstrong_number(num):\n",
    "            armstrong_numbers.append(num)\n",
    "    return armstrong_numbers\n",
    "\n",
    "# Get range from user\n",
    "start = int(input(\"Enter the starting number of the range: \"))\n",
    "end = int(input(\"Enter the ending number of the range: \"))\n",
    "\n",
    "# Find and print Armstrong numbers in the specified range\n",
    "result = find_armstrong_numbers(start, end)\n",
    "if result:\n",
    "    print(f\"Armstrong numbers in the range {start} to {end}:\")\n",
    "    print(', '.join(map(str, result)))\n",
    "else:\n",
    "    print(f\"No Armstrong numbers found in the range {start} to {end}.\")\n"
   ]
  }
 ],
 "metadata": {
  "kernelspec": {
   "display_name": "Python 3 (ipykernel)",
   "language": "python",
   "name": "python3"
  },
  "language_info": {
   "codemirror_mode": {
    "name": "ipython",
    "version": 3
   },
   "file_extension": ".py",
   "mimetype": "text/x-python",
   "name": "python",
   "nbconvert_exporter": "python",
   "pygments_lexer": "ipython3",
   "version": "3.11.7"
  }
 },
 "nbformat": 4,
 "nbformat_minor": 5
}
