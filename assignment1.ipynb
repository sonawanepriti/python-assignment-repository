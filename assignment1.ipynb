{
 "cells": [
  {
   "cell_type": "markdown",
   "id": "20fe59ac-6b5b-4b05-a697-434ac6e11c88",
   "metadata": {},
   "source": [
    "# Q1: Create two list from given list which will contain even and odd number from original list"
   ]
  },
  {
   "cell_type": "code",
   "execution_count": 9,
   "id": "860b5db1-5c07-48f8-b0db-0d2a78e440c4",
   "metadata": {},
   "outputs": [
    {
     "name": "stdout",
     "output_type": "stream",
     "text": [
      "odd numbers: [1, 3, 5, 7, 9]\n",
      "even numbers: [2, 4, 6, 8, 10]\n"
     ]
    }
   ],
   "source": [
    "numbers=[1,2,3,4,5,6,7,8,9,10]\n",
    "even_list=[]\n",
    "odd_list=[]\n",
    "for num in numbers:\n",
    "    if num%2==0:\n",
    "        even_list.append(num)\n",
    "    else:\n",
    "       odd_list.append(num)\n",
    "print(\"odd numbers:\",odd_list)\n",
    "print(\"even numbers:\",even_list)\n",
    "       \n",
    "        \n",
    "        "
   ]
  },
  {
   "cell_type": "markdown",
   "id": "622aff5d-b0a6-4e3d-ba47-c73e67d81f3e",
   "metadata": {},
   "source": [
    "# Q2: How to take list as input from user"
   ]
  },
  {
   "cell_type": "code",
   "execution_count": 5,
   "id": "12be8cf9-8fee-4f2e-9710-de220a94f69e",
   "metadata": {},
   "outputs": [
    {
     "name": "stdin",
     "output_type": "stream",
     "text": [
      "total length of list 5\n",
      " 1\n",
      " 2\n",
      " 3\n",
      " 4\n",
      " 5\n"
     ]
    },
    {
     "name": "stdout",
     "output_type": "stream",
     "text": [
      "[1, 2, 3, 4, 5]\n"
     ]
    }
   ],
   "source": [
    "x=[] # x is empty list\n",
    "n = int(input('total length of list'))\n",
    "for i in range(n):\n",
    "    x.append(int(input()))\n",
    "print(x)"
   ]
  },
  {
   "cell_type": "markdown",
   "id": "c0ecf14f-52be-47bb-a88e-dd6e562a6b3d",
   "metadata": {},
   "source": [
    "# Q3: Write a program to merge 2 list without using the + operator"
   ]
  },
  {
   "cell_type": "code",
   "execution_count": 18,
   "id": "6a133162-f8cb-41ca-8204-79cd04a8acfd",
   "metadata": {},
   "outputs": [
    {
     "name": "stdout",
     "output_type": "stream",
     "text": [
      "[1, 2, 3, 4, 5, 6, 7, 8, 9, 10]\n"
     ]
    }
   ],
   "source": [
    "l1=[1,2,3,4,5]\n",
    "l2=[6,7,8,9,10]\n",
    "l1.extend(l2)\n",
    "print(l1)"
   ]
  },
  {
   "cell_type": "markdown",
   "id": "f6b6fa94-42f1-43b1-b08d-e0e566dca2f5",
   "metadata": {},
   "source": [
    "# Q4: Write a program to replace an item with a different item if found in the list"
   ]
  },
  {
   "cell_type": "code",
   "execution_count": 20,
   "id": "7fee58fc-4236-498b-ae80-6672c219d250",
   "metadata": {},
   "outputs": [
    {
     "name": "stdout",
     "output_type": "stream",
     "text": [
      "[1, 2, 3, 4, 5, 3, 300]\n"
     ]
    }
   ],
   "source": [
    "l1=[1,2,3,4,5,3]\n",
    "l1.append(300) # push element at the end\n",
    "print(l1) "
   ]
  },
  {
   "cell_type": "code",
   "execution_count": 21,
   "id": "2a7d8add-1281-4f94-a20c-ad58adbecbc2",
   "metadata": {},
   "outputs": [
    {
     "name": "stdout",
     "output_type": "stream",
     "text": [
      "[1, 2, 300, 3, 4, 5, 3]\n"
     ]
    }
   ],
   "source": [
    "l1=[1,2,3,4,5,3]\n",
    "l1.insert(2,300) # push element at the end\n",
    "print(l1)"
   ]
  },
  {
   "cell_type": "markdown",
   "id": "049a3dc7-1825-4595-8b64-31e5c1f34284",
   "metadata": {},
   "source": [
    "# Q5:Write a program that can convert a 2D list to 1D list"
   ]
  },
  {
   "cell_type": "code",
   "execution_count": 3,
   "id": "ee191764-6193-40ce-aff2-d2c3092251f0",
   "metadata": {},
   "outputs": [
    {
     "ename": "NameError",
     "evalue": "name 'one_d_list' is not defined",
     "output_type": "error",
     "traceback": [
      "\u001b[1;31m---------------------------------------------------------------------------\u001b[0m",
      "\u001b[1;31mNameError\u001b[0m                                 Traceback (most recent call last)",
      "Cell \u001b[1;32mIn[3], line 7\u001b[0m\n\u001b[0;32m      1\u001b[0m \u001b[38;5;66;03m# creating a 2D list\u001b[39;00m\n\u001b[0;32m      2\u001b[0m two_d_list\u001b[38;5;241m=\u001b[39m[\n\u001b[0;32m      3\u001b[0m             [\u001b[38;5;241m1\u001b[39m,\u001b[38;5;241m2\u001b[39m,\u001b[38;5;241m3\u001b[39m],\n\u001b[0;32m      4\u001b[0m             [\u001b[38;5;241m4\u001b[39m,\u001b[38;5;241m5\u001b[39m,\u001b[38;5;241m6\u001b[39m],\n\u001b[0;32m      5\u001b[0m             [\u001b[38;5;241m7\u001b[39m,\u001b[38;5;241m8\u001b[39m,\u001b[38;5;241m9\u001b[39m]\n\u001b[0;32m      6\u001b[0m ]\n\u001b[1;32m----> 7\u001b[0m two_d_list\u001b[38;5;241m.\u001b[39mextend(one_d_list)\n\u001b[0;32m      8\u001b[0m \u001b[38;5;28mprint\u001b[39m(one_d_list)\n",
      "\u001b[1;31mNameError\u001b[0m: name 'one_d_list' is not defined"
     ]
    }
   ],
   "source": [
    "# creating a 2D list\n",
    "two_d_list=[[1,2,3],[4,5,6],[7,8,9]]\n",
    "one_d_list=[item for sublist in two\n",
    "           -]\n",
    "            \n",
    "          \n",
    "            \n",
    "\n",
    "\n"
   ]
  },
  {
   "cell_type": "markdown",
   "id": "ae9954c2-5be5-4cdf-9f5f-7280cdb7e2af",
   "metadata": {},
   "source": [
    "# Q6: Write a program to remove duplicate items from a list"
   ]
  },
  {
   "cell_type": "code",
   "execution_count": 23,
   "id": "d4f3a95b-de31-4505-a7ce-8a50ea553991",
   "metadata": {},
   "outputs": [
    {
     "name": "stdout",
     "output_type": "stream",
     "text": [
      "[1, 2, 3, 4, 5]\n"
     ]
    }
   ],
   "source": [
    "li=[1,2,1,2,3,4,5,3,4]\n",
    "unique_list=list(set(li))\n",
    "print(unique_list)"
   ]
  },
  {
   "cell_type": "markdown",
   "id": "de58831f-87c2-4d39-9036-e39563a002a3",
   "metadata": {},
   "source": [
    "# Q7: Write a program to check if a list is in ascending order or not"
   ]
  },
  {
   "cell_type": "code",
   "execution_count": 13,
   "id": "6480970f-5763-4c0e-bd5c-db2ac3b2d37c",
   "metadata": {},
   "outputs": [
    {
     "name": "stdout",
     "output_type": "stream",
     "text": [
      "List in ascending order: [1, 2, 5, 5, 6, 9]\n",
      "List in descending order [9, 6, 5, 5, 2, 1]\n"
     ]
    }
   ],
   "source": [
    "def sort_ascending(my_list):\n",
    "    return sorted(my_list)\n",
    "\n",
    "# Function to sort the list in descending order\n",
    "def sort_descending(my_list):\n",
    "    return sorted(my_list, reverse=True)\n",
    "\n",
    "\n",
    "if __name__ == \"__main__\":\n",
    "    \n",
    "    my_list = [5, 2, 9, 1, 5, 6]\n",
    "\n",
    "    # Sorting the list in ascending order\n",
    "    ascending_list = sort_ascending(my_list)\n",
    "    print(\"List in ascending order:\", ascending_list)\n",
    "\n",
    "    # Sorting the list in descending order\n",
    "    descending_list = sort_descending(my_list)\n",
    "    print(\"List in descending order\",descending_list)"
   ]
  },
  {
   "cell_type": "code",
   "execution_count": null,
   "id": "2a7e70ef-11d6-489c-b659-0e292e05dd70",
   "metadata": {},
   "outputs": [],
   "source": []
  }
 ],
 "metadata": {
  "kernelspec": {
   "display_name": "Python 3 (ipykernel)",
   "language": "python",
   "name": "python3"
  },
  "language_info": {
   "codemirror_mode": {
    "name": "ipython",
    "version": 3
   },
   "file_extension": ".py",
   "mimetype": "text/x-python",
   "name": "python",
   "nbconvert_exporter": "python",
   "pygments_lexer": "ipython3",
   "version": "3.11.7"
  }
 },
 "nbformat": 4,
 "nbformat_minor": 5
}
